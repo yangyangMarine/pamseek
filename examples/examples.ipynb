{
 "cells": [
  {
   "cell_type": "markdown",
   "id": "b1681ea9-54ef-4248-ac34-3b0ee4ea4b94",
   "metadata": {},
   "source": [
    "# Partrac Q1 report"
   ]
  },
  {
   "cell_type": "code",
   "execution_count": 1,
   "id": "2b14beb4-f5ea-424b-a4d4-227d2f582eec",
   "metadata": {},
   "outputs": [
    {
     "name": "stderr",
     "output_type": "stream",
     "text": [
      "C:\\Users\\DrYangYang\\anaconda3\\Lib\\site-packages\\paramiko\\pkey.py:82: CryptographyDeprecationWarning: TripleDES has been moved to cryptography.hazmat.decrepit.ciphers.algorithms.TripleDES and will be removed from this module in 48.0.0.\n",
      "  \"cipher\": algorithms.TripleDES,\n",
      "C:\\Users\\DrYangYang\\anaconda3\\Lib\\site-packages\\paramiko\\transport.py:219: CryptographyDeprecationWarning: Blowfish has been moved to cryptography.hazmat.decrepit.ciphers.algorithms.Blowfish and will be removed from this module in 45.0.0.\n",
      "  \"class\": algorithms.Blowfish,\n",
      "C:\\Users\\DrYangYang\\anaconda3\\Lib\\site-packages\\paramiko\\transport.py:243: CryptographyDeprecationWarning: TripleDES has been moved to cryptography.hazmat.decrepit.ciphers.algorithms.TripleDES and will be removed from this module in 48.0.0.\n",
      "  \"class\": algorithms.TripleDES,\n"
     ]
    }
   ],
   "source": [
    "# load my library (only functions for now) for processing the data\n",
    "# Import standard Python libraries\n",
    "import os\n",
    "import sys\n",
    "import glob\n",
    "\n",
    "# Import opensoundscape modules for audio processing\n",
    "from opensoundscape import Audio, audio, Spectrogram\n",
    "import opensoundscape\n",
    "\n",
    "# Import utility libraries\n",
    "import warnings\n",
    "\n",
    "# Import scientific computing libraries\n",
    "import numpy as np\n",
    "import scipy.signal as signal\n",
    "import importlib.util\n",
    "import matplotlib.pyplot as plt\n",
    "import math\n",
    "\n",
    "warnings.filterwarnings(\"ignore\")\n",
    "# Enable memory profiling\n",
    "%load_ext memory_profiler"
   ]
  },
  {
   "cell_type": "code",
   "execution_count": 2,
   "id": "6224211c-12fe-4b49-9cbb-4b3259b90e98",
   "metadata": {},
   "outputs": [],
   "source": [
    "# Add pamseek directory to Python's module search path\n",
    "pamseek_path = r\"C:\\Users\\DrYangYang\\Documents\\Python\\pamseek\"\n",
    "if pamseek_path not in sys.path:\n",
    "    sys.path.append(pamseek_path)\n",
    "\n",
    "from pamseek.utils import load_audio_files, cal_hydrophone\n",
    "from pamseek.compute import compute_psd, compute_spectrogram\n",
    "from pamseek.plot import plot_psd, plot_spectrogram, plot_psd_with_percentiles"
   ]
  },
  {
   "cell_type": "markdown",
   "id": "30815f18-f619-462a-a943-25bbc4af8896",
   "metadata": {},
   "source": [
    "# 1. Load data "
   ]
  },
  {
   "cell_type": "code",
   "execution_count": 4,
   "id": "02e04000-310c-42fa-adb5-2478bb3198d8",
   "metadata": {},
   "outputs": [
    {
     "name": "stdout",
     "output_type": "stream",
     "text": [
      "Reading audio files from: C:\\Users\\DrYangYang\\Documents\\Python\\JupyterNotebook\\data\n",
      "Found 10 .wav files:\n",
      "- 20240717T093000_11805655683051522_2.0dB_3.9V_ver3.20.wav\n",
      "- 20240717T094000_11805655683051522_2.0dB_3.9V_ver3.20.wav\n",
      "- 20240717T095000_11805655683051522_2.0dB_3.9V_ver3.20.wav\n",
      "- 20240717T100000_11805655683051522_2.0dB_3.9V_ver3.20.wav\n",
      "- 20240717T101000_11805655683051522_2.0dB_3.9V_ver3.20.wav\n",
      "Concatenation finished --------------- 11%\n",
      "Concatenation finished --------------- 22%\n",
      "Concatenation finished --------------- 33%\n",
      "Concatenation finished --------------- 44%\n",
      "Concatenation finished --------------- 56%\n",
      "Concatenation finished --------------- 67%\n",
      "Concatenation finished --------------- 78%\n",
      "Concatenation finished --------------- 89%\n",
      "Concatenation finished --------------- 100%\n",
      "peak memory: 8694.63 MiB, increment: 8144.39 MiB\n",
      "CPU times: total: 20.7 s\n",
      "Wall time: 35 s\n"
     ]
    }
   ],
   "source": [
    "%%time\n",
    "%%memit\n",
    "\n",
    "path = r'C:\\Users\\DrYangYang\\Documents\\Python\\JupyterNotebook\\data'\n",
    "# Then use it as:\n",
    "audio_object = load_audio_files(path)\n",
    "audio_object"
   ]
  },
  {
   "cell_type": "code",
   "execution_count": 5,
   "id": "4d7b5886-2c0d-439b-bbc8-ad1734a16fcd",
   "metadata": {},
   "outputs": [
    {
     "name": "stdout",
     "output_type": "stream",
     "text": [
      "Entire audio file starts at 2024-07-17 09:30:00+00:00 and has duration 6000.64 seconds.\n",
      "Number of samples: 576061440\n",
      "Sample rate: 96000 Hz\n",
      "RMS: 0.031\n",
      "dBFS: -27.2\n"
     ]
    }
   ],
   "source": [
    "# check metadata \n",
    "print(f\"Entire audio file starts at {audio_object.metadata['recording_start_time']} and has duration {audio_object.duration} seconds.\")\n",
    "print(f\"Number of samples: {len(audio_object.samples)}\")\n",
    "print(f\"Sample rate: {audio_object.sample_rate} Hz\")\n",
    "print(f\"RMS: {audio_object.rms:0.3f}\")\n",
    "print(f\"dBFS: {audio_object.dBFS:0.1f}\") # decibels relative to full scale"
   ]
  },
  {
   "cell_type": "markdown",
   "id": "c4d30100-bd3b-4e02-9cae-c475af15be00",
   "metadata": {},
   "source": [
    "# 2. Calibration "
   ]
  },
  {
   "cell_type": "code",
   "execution_count": 7,
   "id": "3983c252-46e5-4506-b689-777d2e54494a",
   "metadata": {},
   "outputs": [],
   "source": [
    "audio_object = cal_hydrophone(audio_object, -156, gain=0, bit_depth=24)"
   ]
  },
  {
   "cell_type": "code",
   "execution_count": 8,
   "id": "0335d99a-6e80-4d83-95ec-bd7ddb9213d5",
   "metadata": {},
   "outputs": [
    {
     "name": "stdout",
     "output_type": "stream",
     "text": [
      "RMS: 0.233\n",
      "dBFS: -9.6\n"
     ]
    }
   ],
   "source": [
    "print(f\"RMS: {audio_object.rms:0.3f}\")\n",
    "print(f\"dBFS: {audio_object.dBFS:0.1f}\")"
   ]
  },
  {
   "cell_type": "markdown",
   "id": "28e50ccc-23a9-4c3b-aca1-c4c60d688b58",
   "metadata": {},
   "source": [
    "# 3. Compute PSD"
   ]
  },
  {
   "cell_type": "code",
   "execution_count": null,
   "id": "e650982b-f575-48b5-9bc7-e99f3946cfbe",
   "metadata": {},
   "outputs": [],
   "source": [
    "%%time\n",
    "%%memit\n",
    "\n",
    "f1, Pxx = compute_psd(audio_object, \n",
    "                           fs=None, \n",
    "                           window='hann', \n",
    "                           window_length=1.0,\n",
    "                           overlap=0.5, \n",
    "                           scaling='density')\n",
    "\n",
    "f2, t, Sxx, rms, percentile = compute_spectrogram(audio_object, \n",
    "                           fs=None, \n",
    "                           window='hann', \n",
    "                           window_length=1.0,\n",
    "                           overlap=0.5, \n",
    "                           scaling='density')"
   ]
  },
  {
   "cell_type": "code",
   "execution_count": 19,
   "id": "a0bc7393-550f-4c48-bd4d-74e1d69beed3",
   "metadata": {},
   "outputs": [],
   "source": [
    "Sxx = compute_spectrogram(audio_object, \n",
    "                           fs=None, \n",
    "                           window='hann', \n",
    "                           window_length=1.0,\n",
    "                           overlap=0.5, \n",
    "                           scaling='density')"
   ]
  },
  {
   "cell_type": "code",
   "execution_count": 29,
   "id": "b69537d8-1a0c-4047-848c-4c5a665b6e3c",
   "metadata": {},
   "outputs": [
    {
     "data": {
      "text/plain": [
       "(array([0.0000e+00, 1.0000e+00, 2.0000e+00, ..., 4.7998e+04, 4.7999e+04,\n",
       "        4.8000e+04]),\n",
       " array([5.0000e-01, 1.0000e+00, 1.5000e+00, ..., 5.9990e+03, 5.9995e+03,\n",
       "        6.0000e+03]),\n",
       " array([[ 25.877716 ,  18.184454 ,  37.379997 , ...,  27.62964  ,\n",
       "          32.59671  ,  11.775984 ],\n",
       "        [ 42.57425  ,  40.651985 ,  41.75572  , ...,  33.508293 ,\n",
       "          42.629547 ,  43.822056 ],\n",
       "        [ 42.231792 ,  47.345314 ,  40.522095 , ...,  41.827488 ,\n",
       "          36.903557 ,  47.58316  ],\n",
       "        ...,\n",
       "        [  9.821914 ,  10.53986  ,   2.2608669, ...,   6.1759753,\n",
       "           8.636244 ,   3.567565 ],\n",
       "        [ 12.650199 ,  -2.718651 ,  13.584295 , ...,   2.4592357,\n",
       "           1.2105881,   0.5494997],\n",
       "        [ 10.400009 ,  11.721205 ,   3.3179429, ..., -28.750708 ,\n",
       "          -9.694365 , -10.386532 ]], dtype=float32),\n",
       " array([83.47972 , 89.87039 , 93.8006  , ..., 23.347063, 23.510357,\n",
       "        21.014538], dtype=float32),\n",
       " {'1%': array([  4.23277191,  26.52928104,  27.87089832, ..., -13.02856926,\n",
       "         -13.46893934, -33.99351955]),\n",
       "  '5%': array([ 17.97926178,  33.54452553,  34.64084644, ...,  -6.06954384,\n",
       "          -6.59061649, -20.30754194]),\n",
       "  '50%': array([40.9884243 , 47.50792503, 47.64548302, ...,  4.98669958,\n",
       "          4.94580746,  0.2203158 ]),\n",
       "  '95%': array([71.49522667, 76.93095131, 77.39751587, ..., 11.6904057 ,\n",
       "         11.84172497,  9.8209825 ]),\n",
       "  '99%': array([88.52241852, 96.21167213, 96.50789864, ..., 16.28754745,\n",
       "         16.23456478, 13.93364843])})"
      ]
     },
     "execution_count": 29,
     "metadata": {},
     "output_type": "execute_result"
    }
   ],
   "source": [
    "Sxx"
   ]
  },
  {
   "cell_type": "markdown",
   "id": "9c012468-4c88-4cf6-a1ca-7169158c2ca5",
   "metadata": {
    "jp-MarkdownHeadingCollapsed": true
   },
   "source": [
    "# 4. Compute 1/3 band, boardband "
   ]
  },
  {
   "cell_type": "markdown",
   "id": "584b4488-b45c-4492-927d-25d145648b19",
   "metadata": {},
   "source": [
    "# 5. Plot"
   ]
  },
  {
   "cell_type": "code",
   "execution_count": 34,
   "id": "a41959b6-8b51-401b-982e-1a9856c662e4",
   "metadata": {},
   "outputs": [
    {
     "data": {
      "text/plain": [
       "(array([0.0000e+00, 1.0000e+00, 2.0000e+00, ..., 4.7998e+04, 4.7999e+04,\n",
       "        4.8000e+04]),\n",
       " array([101.005905, 107.39659 , 111.3268  , ...,  40.873264,  41.03655 ,\n",
       "         38.540745], dtype=float32))"
      ]
     },
     "execution_count": 34,
     "metadata": {},
     "output_type": "execute_result"
    }
   ],
   "source": [
    "from pamseek.plot import plot_psd, plot_spectrogram, plot_psd_with_percentiles"
   ]
  },
  {
   "cell_type": "code",
   "execution_count": null,
   "id": "530f8bfd-ffaa-490f-99ee-41c8dae11efd",
   "metadata": {},
   "outputs": [],
   "source": [
    "%%time\n",
    "%%memit\n",
    "\n",
    "plot_psd(f1, Pxx, xscale='log', yscale='linear', width=12, height=6,\n",
    "             title='Power Spectral Density', grid=True, xlim=None, ylim=None, \n",
    "             save=False, filename='psd_plot.png', dpi=300, color='b')"
   ]
  },
  {
   "cell_type": "code",
   "execution_count": null,
   "id": "5e384b31-9a65-4fb3-b0cf-f3e1bc5776d8",
   "metadata": {},
   "outputs": [],
   "source": [
    "%%time\n",
    "%%memit\n",
    "\n",
    "plot_spectrogram(f1, t, Sxx, xscale='linear', yscale='log', width=12, height=6,\n",
    "                    title='Spectrogram', grid=True, xlim=None, ylim=[1, 12000], \n",
    "                    cmap='viridis', vmin=None, vmax=None, colorbar_label='PSD [dB re 1 µPa²/Hz]',\n",
    "                    save=False, filename='spectrogram_plot.png', dpi=300)"
   ]
  }
 ],
 "metadata": {
  "kernelspec": {
   "display_name": "Python [conda env:base]",
   "language": "python",
   "name": "conda-base-py"
  },
  "language_info": {
   "codemirror_mode": {
    "name": "ipython",
    "version": 3
   },
   "file_extension": ".py",
   "mimetype": "text/x-python",
   "name": "python",
   "nbconvert_exporter": "python",
   "pygments_lexer": "ipython3",
   "version": "3.12.7"
  }
 },
 "nbformat": 4,
 "nbformat_minor": 5
}
